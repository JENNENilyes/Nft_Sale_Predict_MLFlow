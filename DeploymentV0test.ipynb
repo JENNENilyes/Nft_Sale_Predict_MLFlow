{
  "nbformat": 4,
  "nbformat_minor": 0,
  "metadata": {
    "colab": {
      "name": "DeploymentV0.ipynb",
      "provenance": [],
      "collapsed_sections": []
    },
    "kernelspec": {
      "name": "python3",
      "display_name": "Python 3"
    },
    "language_info": {
      "name": "python"
    },
    "widgets": {
      "application/vnd.jupyter.widget-state+json": {
        "dc843495ee9b4a46a74d0b908d1207c2": {
          "model_module": "@jupyter-widgets/controls",
          "model_name": "HBoxModel",
          "model_module_version": "1.5.0",
          "state": {
            "_view_name": "HBoxView",
            "_dom_classes": [],
            "_model_name": "HBoxModel",
            "_view_module": "@jupyter-widgets/controls",
            "_model_module_version": "1.5.0",
            "_view_count": null,
            "_view_module_version": "1.5.0",
            "box_style": "",
            "layout": "IPY_MODEL_ed9c68e7704642b590570e1cabcbf2ee",
            "_model_module": "@jupyter-widgets/controls",
            "children": [
              "IPY_MODEL_1d81402ad8db4d12841e1648ab3835b5",
              "IPY_MODEL_51749704c0c24052bbabff2a1543c3bc",
              "IPY_MODEL_ee568de7d4ca49a69383276eb8ea5972"
            ]
          }
        },
        "ed9c68e7704642b590570e1cabcbf2ee": {
          "model_module": "@jupyter-widgets/base",
          "model_name": "LayoutModel",
          "model_module_version": "1.2.0",
          "state": {
            "_view_name": "LayoutView",
            "grid_template_rows": null,
            "right": null,
            "justify_content": null,
            "_view_module": "@jupyter-widgets/base",
            "overflow": null,
            "_model_module_version": "1.2.0",
            "_view_count": null,
            "flex_flow": "row wrap",
            "width": "100%",
            "min_width": null,
            "border": null,
            "align_items": null,
            "bottom": null,
            "_model_module": "@jupyter-widgets/base",
            "top": null,
            "grid_column": null,
            "overflow_y": null,
            "overflow_x": null,
            "grid_auto_flow": null,
            "grid_area": null,
            "grid_template_columns": null,
            "flex": null,
            "_model_name": "LayoutModel",
            "justify_items": null,
            "grid_row": null,
            "max_height": null,
            "align_content": null,
            "visibility": null,
            "align_self": null,
            "height": null,
            "min_height": null,
            "padding": null,
            "grid_auto_rows": null,
            "grid_gap": null,
            "max_width": null,
            "order": null,
            "_view_module_version": "1.2.0",
            "grid_template_areas": null,
            "object_position": null,
            "object_fit": null,
            "grid_auto_columns": null,
            "margin": null,
            "display": "inline-flex",
            "left": null
          }
        },
        "1d81402ad8db4d12841e1648ab3835b5": {
          "model_module": "@jupyter-widgets/controls",
          "model_name": "HTMLModel",
          "model_module_version": "1.5.0",
          "state": {
            "_view_name": "HTMLView",
            "style": "IPY_MODEL_22d997629f964cc8947b57c3f5c1ab0a",
            "_dom_classes": [],
            "description": "",
            "_model_name": "HTMLModel",
            "placeholder": "​",
            "_view_module": "@jupyter-widgets/controls",
            "_model_module_version": "1.5.0",
            "value": "Done! Use &#x27;show&#x27; commands to display/save.   ",
            "_view_count": null,
            "_view_module_version": "1.5.0",
            "description_tooltip": null,
            "_model_module": "@jupyter-widgets/controls",
            "layout": "IPY_MODEL_0a8729e064c0440ea75e0a98ab3396c6"
          }
        },
        "51749704c0c24052bbabff2a1543c3bc": {
          "model_module": "@jupyter-widgets/controls",
          "model_name": "FloatProgressModel",
          "model_module_version": "1.5.0",
          "state": {
            "_view_name": "ProgressView",
            "style": "IPY_MODEL_f7091083bd8b4615b3d02f4ae790d22b",
            "_dom_classes": [],
            "description": "",
            "_model_name": "FloatProgressModel",
            "bar_style": "success",
            "max": 1,
            "_view_module": "@jupyter-widgets/controls",
            "_model_module_version": "1.5.0",
            "value": 1,
            "_view_count": null,
            "_view_module_version": "1.5.0",
            "orientation": "horizontal",
            "min": 0,
            "description_tooltip": null,
            "_model_module": "@jupyter-widgets/controls",
            "layout": "IPY_MODEL_e5ba034d746a4613a76c569097f6cb7d"
          }
        },
        "ee568de7d4ca49a69383276eb8ea5972": {
          "model_module": "@jupyter-widgets/controls",
          "model_name": "HTMLModel",
          "model_module_version": "1.5.0",
          "state": {
            "_view_name": "HTMLView",
            "style": "IPY_MODEL_96b9348dbfc84a10a867b6e087588446",
            "_dom_classes": [],
            "description": "",
            "_model_name": "HTMLModel",
            "placeholder": "​",
            "_view_module": "@jupyter-widgets/controls",
            "_model_module_version": "1.5.0",
            "value": " [100%]   00:00 -&gt; (00:00 left)",
            "_view_count": null,
            "_view_module_version": "1.5.0",
            "description_tooltip": null,
            "_model_module": "@jupyter-widgets/controls",
            "layout": "IPY_MODEL_8b12d337fd90400e92bb5ff5cb64941c"
          }
        },
        "22d997629f964cc8947b57c3f5c1ab0a": {
          "model_module": "@jupyter-widgets/controls",
          "model_name": "DescriptionStyleModel",
          "model_module_version": "1.5.0",
          "state": {
            "_view_name": "StyleView",
            "_model_name": "DescriptionStyleModel",
            "description_width": "",
            "_view_module": "@jupyter-widgets/base",
            "_model_module_version": "1.5.0",
            "_view_count": null,
            "_view_module_version": "1.2.0",
            "_model_module": "@jupyter-widgets/controls"
          }
        },
        "0a8729e064c0440ea75e0a98ab3396c6": {
          "model_module": "@jupyter-widgets/base",
          "model_name": "LayoutModel",
          "model_module_version": "1.2.0",
          "state": {
            "_view_name": "LayoutView",
            "grid_template_rows": null,
            "right": null,
            "justify_content": null,
            "_view_module": "@jupyter-widgets/base",
            "overflow": null,
            "_model_module_version": "1.2.0",
            "_view_count": null,
            "flex_flow": null,
            "width": null,
            "min_width": null,
            "border": null,
            "align_items": null,
            "bottom": null,
            "_model_module": "@jupyter-widgets/base",
            "top": null,
            "grid_column": null,
            "overflow_y": null,
            "overflow_x": null,
            "grid_auto_flow": null,
            "grid_area": null,
            "grid_template_columns": null,
            "flex": null,
            "_model_name": "LayoutModel",
            "justify_items": null,
            "grid_row": null,
            "max_height": null,
            "align_content": null,
            "visibility": null,
            "align_self": null,
            "height": null,
            "min_height": null,
            "padding": null,
            "grid_auto_rows": null,
            "grid_gap": null,
            "max_width": null,
            "order": null,
            "_view_module_version": "1.2.0",
            "grid_template_areas": null,
            "object_position": null,
            "object_fit": null,
            "grid_auto_columns": null,
            "margin": null,
            "display": null,
            "left": null
          }
        },
        "f7091083bd8b4615b3d02f4ae790d22b": {
          "model_module": "@jupyter-widgets/controls",
          "model_name": "ProgressStyleModel",
          "model_module_version": "1.5.0",
          "state": {
            "_view_name": "StyleView",
            "_model_name": "ProgressStyleModel",
            "description_width": "",
            "_view_module": "@jupyter-widgets/base",
            "_model_module_version": "1.5.0",
            "_view_count": null,
            "_view_module_version": "1.2.0",
            "bar_color": null,
            "_model_module": "@jupyter-widgets/controls"
          }
        },
        "e5ba034d746a4613a76c569097f6cb7d": {
          "model_module": "@jupyter-widgets/base",
          "model_name": "LayoutModel",
          "model_module_version": "1.2.0",
          "state": {
            "_view_name": "LayoutView",
            "grid_template_rows": null,
            "right": null,
            "justify_content": null,
            "_view_module": "@jupyter-widgets/base",
            "overflow": null,
            "_model_module_version": "1.2.0",
            "_view_count": null,
            "flex_flow": null,
            "width": null,
            "min_width": null,
            "border": null,
            "align_items": null,
            "bottom": null,
            "_model_module": "@jupyter-widgets/base",
            "top": null,
            "grid_column": null,
            "overflow_y": null,
            "overflow_x": null,
            "grid_auto_flow": null,
            "grid_area": null,
            "grid_template_columns": null,
            "flex": "2",
            "_model_name": "LayoutModel",
            "justify_items": null,
            "grid_row": null,
            "max_height": null,
            "align_content": null,
            "visibility": null,
            "align_self": null,
            "height": null,
            "min_height": null,
            "padding": null,
            "grid_auto_rows": null,
            "grid_gap": null,
            "max_width": null,
            "order": null,
            "_view_module_version": "1.2.0",
            "grid_template_areas": null,
            "object_position": null,
            "object_fit": null,
            "grid_auto_columns": null,
            "margin": null,
            "display": null,
            "left": null
          }
        },
        "96b9348dbfc84a10a867b6e087588446": {
          "model_module": "@jupyter-widgets/controls",
          "model_name": "DescriptionStyleModel",
          "model_module_version": "1.5.0",
          "state": {
            "_view_name": "StyleView",
            "_model_name": "DescriptionStyleModel",
            "description_width": "",
            "_view_module": "@jupyter-widgets/base",
            "_model_module_version": "1.5.0",
            "_view_count": null,
            "_view_module_version": "1.2.0",
            "_model_module": "@jupyter-widgets/controls"
          }
        },
        "8b12d337fd90400e92bb5ff5cb64941c": {
          "model_module": "@jupyter-widgets/base",
          "model_name": "LayoutModel",
          "model_module_version": "1.2.0",
          "state": {
            "_view_name": "LayoutView",
            "grid_template_rows": null,
            "right": null,
            "justify_content": null,
            "_view_module": "@jupyter-widgets/base",
            "overflow": null,
            "_model_module_version": "1.2.0",
            "_view_count": null,
            "flex_flow": null,
            "width": null,
            "min_width": null,
            "border": null,
            "align_items": null,
            "bottom": null,
            "_model_module": "@jupyter-widgets/base",
            "top": null,
            "grid_column": null,
            "overflow_y": null,
            "overflow_x": null,
            "grid_auto_flow": null,
            "grid_area": null,
            "grid_template_columns": null,
            "flex": null,
            "_model_name": "LayoutModel",
            "justify_items": null,
            "grid_row": null,
            "max_height": null,
            "align_content": null,
            "visibility": null,
            "align_self": null,
            "height": null,
            "min_height": null,
            "padding": null,
            "grid_auto_rows": null,
            "grid_gap": null,
            "max_width": null,
            "order": null,
            "_view_module_version": "1.2.0",
            "grid_template_areas": null,
            "object_position": null,
            "object_fit": null,
            "grid_auto_columns": null,
            "margin": null,
            "display": null,
            "left": null
          }
        }
      }
    }
  },
  "cells": [
    {
      "cell_type": "markdown",
      "source": [
        "#Fonction predict"
      ],
      "metadata": {
        "id": "g-8ZsXSrefzT"
      }
    },
    {
      "cell_type": "code",
      "source": [
        "import numpy as np\n",
        "import matplotlib.pyplot as plt \n",
        "import seaborn as sns\n",
        "import pandas as pd\n",
        "\n",
        "\n",
        "from sklearn.impute import SimpleImputer\n",
        "from sklearn.preprocessing import OneHotEncoder\n",
        "\n",
        "from sklearn.linear_model import LogisticRegression\n",
        "\n",
        "from sklearn.model_selection import train_test_split, cross_validate\n",
        "from sklearn.metrics import accuracy_score, precision_score, recall_score, f1_score\n",
        "from sklearn.metrics import roc_auc_score, plot_confusion_matrix, plot_roc_curve"
      ],
      "metadata": {
        "id": "AcyFcXaPe9L8"
      },
      "execution_count": null,
      "outputs": []
    },
    {
      "cell_type": "code",
      "source": [
        "from sklearn.preprocessing import OrdinalEncoder\n",
        "from sklearn.ensemble import RandomForestClassifier\n",
        "from sklearn.model_selection import GridSearchCV\n",
        "from sklearn.tree import DecisionTreeClassifier\n",
        "from sklearn.model_selection import cross_val_score\n",
        "from sklearn.model_selection import RandomizedSearchCV"
      ],
      "metadata": {
        "id": "TcFSUhQIfAY6"
      },
      "execution_count": null,
      "outputs": []
    },
    {
      "cell_type": "code",
      "source": [
        "from google.colab import drive\n",
        "drive.mount('/content/drive')"
      ],
      "metadata": {
        "colab": {
          "base_uri": "https://localhost:8080/"
        },
        "id": "dlw3Oj_F7kBC",
        "outputId": "500759cd-14eb-4362-85df-12fc2772c15e"
      },
      "execution_count": null,
      "outputs": [
        {
          "output_type": "stream",
          "name": "stdout",
          "text": [
            "Mounted at /content/drive\n"
          ]
        }
      ]
    },
    {
      "cell_type": "code",
      "source": [
        "def input(a,z,e,r,t,y,u,i,o,p,q,s,d,f,g,h):\n",
        "  input={'asset_contract.created_date':a, 'asset_contract.name':z,\n",
        "       'asset_contract.schema_name':e, 'asset_contract.asset_contract_type':r,\n",
        "       'collection.created_date':t, 'collection.slug':y,\n",
        "       'collection.safelist_request_status':u, 'owner.address':i, 'is_presale':o,\n",
        "       'asset_contract.total_supply':p, 'asset_contract.seller_fee_basis_points':q,\n",
        "       'asset_contract.dev_seller_fee_basis_points':s,\n",
        "       'asset_contract.opensea_seller_fee_basis_points':d, 'collection.featured':f,\n",
        "       'collection.dev_seller_fee_basis_points':g,\n",
        "       'collection.opensea_seller_fee_basis_points':h }\n",
        "  return input"
      ],
      "metadata": {
        "id": "aMr51svFefdc"
      },
      "execution_count": null,
      "outputs": []
    },
    {
      "cell_type": "code",
      "source": [
        "dic=input('2020-12-02 17:40:53.232025',\t'ilyes',\t'ERC1155',\t'semi-fungible'\t,'2021-08-18 21:21:25.521115'\t,'the-animal-kingdom-collection'\t,'not_requested',\t'0x0000000000000000000000000000000000000000'\t,True,\tnp.nan\t,250,\t0,\t250\t,False,\t1000 ,\t333)\n"
      ],
      "metadata": {
        "id": "JuteuQ7SefgH"
      },
      "execution_count": null,
      "outputs": []
    },
    {
      "cell_type": "code",
      "source": [
        "import pickle\n",
        "filename = '/content/drive/MyDrive/nftdata/real_model2.sav'\n",
        "nft_tree = pickle.load(open(filename, 'rb'))\n"
      ],
      "metadata": {
        "id": "R8YBvFvrgUb8"
      },
      "execution_count": null,
      "outputs": []
    },
    {
      "cell_type": "code",
      "source": [
        "X1_test = pd.read_csv('/content/drive/MyDrive/nftdata/X_test.csv')\n",
        "X1_train = pd.read_csv('/content/drive/MyDrive/nftdata/X_train.csv')\n",
        "X1_test = X1_test.drop(['Unnamed: 0'], axis = 1)\n",
        "X1_train = X1_train.drop(['Unnamed: 0'], axis = 1)"
      ],
      "metadata": {
        "id": "WIeAiJnnjex8"
      },
      "execution_count": null,
      "outputs": []
    },
    {
      "cell_type": "code",
      "source": [
        "X1_train.shape"
      ],
      "metadata": {
        "colab": {
          "base_uri": "https://localhost:8080/"
        },
        "id": "23QxodCcjzsK",
        "outputId": "b750ca5d-188b-4789-fddd-3ff27b23f38f"
      },
      "execution_count": null,
      "outputs": [
        {
          "output_type": "execute_result",
          "data": {
            "text/plain": [
              "(12291, 17)"
            ]
          },
          "metadata": {},
          "execution_count": 36
        }
      ]
    },
    {
      "cell_type": "code",
      "source": [
        ""
      ],
      "metadata": {
        "id": "NCNGqxrsj4e6"
      },
      "execution_count": null,
      "outputs": []
    },
    {
      "cell_type": "code",
      "source": [
        "def predictNFT(a,z,e,r,t,y,u,i,o,p,q,s,d,f,g,h):\n",
        "  X1_test = pd.read_csv('/content/drive/MyDrive/nftdata/X_test.csv')\n",
        "  X1_train = pd.read_csv('/content/drive/MyDrive/nftdata/X_train.csv')\n",
        "  X1_test = X1_test.drop(['Unnamed: 0'], axis = 1)\n",
        "  X1_train = X1_train.drop(['Unnamed: 0'], axis = 1)\n",
        "\n",
        "    # converting the numerical variable\n",
        "  nft_impute = SimpleImputer(strategy='median')\n",
        "  x1_train_int = nft_impute.fit_transform(X1_train.select_dtypes(['int64', 'float64']))\n",
        "  nft1_int_conv = pd.DataFrame(x1_train_int, columns=X1_train.select_dtypes(['int64', 'float64']).columns)\n",
        "\n",
        "  ordinal_obj = OrdinalEncoder(handle_unknown = 'use_encoded_value', unknown_value=9999)\n",
        "  transformed1_obj = ordinal_obj.fit_transform(X1_train.select_dtypes('object'))\n",
        "  nft1_or_encode = pd.DataFrame(transformed1_obj, columns=X1_train.select_dtypes('object').columns)\n",
        "\n",
        "  train1_conv_nft_df = pd.concat([nft1_int_conv, nft1_or_encode], axis=1)\n",
        "\n",
        "  dic=input(a,z,e,r,t,y,u,i,o,p,q,s,d,f,g,h)\n",
        "  X1_test=X1_test.append(dic,ignore_index=True)\n",
        "\n",
        "  x1_test_int = nft_impute.transform(X1_test.select_dtypes(['int64', 'float64']))\n",
        "  nft1_int_conv_test = pd.DataFrame(x1_test_int, columns=X1_test.select_dtypes(['int64', 'float64']).columns)\n",
        "  \n",
        "  test_transformed1_obj = ordinal_obj.transform(X1_test.select_dtypes('object'))\n",
        "  test1_nft_or_encode = pd.DataFrame(test_transformed1_obj, columns=X1_test.select_dtypes('object').columns)\n",
        "\n",
        "  test1_nft_df = pd.concat([nft1_int_conv_test, test1_nft_or_encode], axis=1)\n",
        "\n",
        "  inputToPredict=test1_nft_df.loc[2170].tolist()\n",
        "\n",
        "\n",
        "  output = nft_tree.predict([inputToPredict])\n",
        "  return(output[0])\n"
      ],
      "metadata": {
        "id": "g0vdIkDGefjP"
      },
      "execution_count": null,
      "outputs": []
    },
    {
      "cell_type": "code",
      "source": [
        ""
      ],
      "metadata": {
        "id": "e9xaYr_YtlAH"
      },
      "execution_count": null,
      "outputs": []
    },
    {
      "cell_type": "code",
      "source": [
        "dic=predictNFT('2020-12-02 17:40:53.232025',\t'ilyes',\t'ERC1155',\t'semi-fungible'\t,'2021-08-18 21:21:25.521115'\t,'the-animal-kingdom-collection'\t,'not_requested',\t'0x0000000000000000000000000000000000000000'\t,True,\tnp.nan\t,250,\t0,\t250\t,False,\t1000 ,\t333)\n",
        "print(dic)\n"
      ],
      "metadata": {
        "colab": {
          "base_uri": "https://localhost:8080/"
        },
        "id": "lfaxWDGRefm3",
        "outputId": "0eab01a4-2acc-42ec-f060-e052710e9a40"
      },
      "execution_count": null,
      "outputs": [
        {
          "output_type": "stream",
          "name": "stdout",
          "text": [
            "1\n"
          ]
        },
        {
          "output_type": "stream",
          "name": "stderr",
          "text": [
            "/usr/local/lib/python3.7/dist-packages/sklearn/base.py:451: UserWarning: X does not have valid feature names, but DecisionTreeClassifier was fitted with feature names\n",
            "  \"X does not have valid feature names, but\"\n"
          ]
        }
      ]
    },
    {
      "cell_type": "markdown",
      "source": [
        "#Test"
      ],
      "metadata": {
        "id": "LbTnw1zxt_YQ"
      }
    },
    {
      "cell_type": "code",
      "source": [
        "X1_test.columns"
      ],
      "metadata": {
        "colab": {
          "base_uri": "https://localhost:8080/"
        },
        "id": "IxMxIONXuJm3",
        "outputId": "cd04bae7-be43-49a9-cf5b-7d1167c3c857"
      },
      "execution_count": null,
      "outputs": [
        {
          "output_type": "execute_result",
          "data": {
            "text/plain": [
              "Index(['asset_contract.created_date', 'asset_contract.name',\n",
              "       'asset_contract.schema_name', 'asset_contract.asset_contract_type',\n",
              "       'collection.created_date', 'collection.slug',\n",
              "       'collection.safelist_request_status', 'owner.address', 'is_presale',\n",
              "       'asset_contract.total_supply', 'asset_contract.seller_fee_basis_points',\n",
              "       'asset_contract.dev_seller_fee_basis_points',\n",
              "       'asset_contract.opensea_seller_fee_basis_points', 'collection.featured',\n",
              "       'collection.dev_seller_fee_basis_points',\n",
              "       'collection.opensea_seller_fee_basis_points'],\n",
              "      dtype='object')"
            ]
          },
          "metadata": {},
          "execution_count": 62
        }
      ]
    },
    {
      "cell_type": "code",
      "source": [
        "df = pd.read_csv('/content/drive/MyDrive/nftdata/revised_nft.csv')"
      ],
      "metadata": {
        "id": "4C11EJoPuBgY"
      },
      "execution_count": null,
      "outputs": []
    },
    {
      "cell_type": "markdown",
      "source": [
        "My guess is — here we have:\n",
        "* collection_slug: The collection to which the item belongs\n",
        "* contract_address: All the sales are managed by a contract (a piece of code / a software) which sends the NFT to the winner of the bid. This is the address of the OpenSea contract. We can see that there is only one address for all the sales, which means that all sales are managed by the same contract.\n",
        "* id: A unique identifier for each sale\n",
        "* quantity: The number of items sold per transaction (see fungible / semi fungible below). As in the supermarket, you can buy 1 apple or 20.\n",
        "* payment_token.name: The cryptocurrency used to buy the item.\n",
        "* total_price: The cost paid by the winner. For Ether, this is expressed in Wei, the smallest denomination of ether. 1 ether = 1,000,000,000,000,000,000 Wei (10¹⁸).\n",
        "* seller.address: The address of the seller\n",
        "* transaction.timestamp: Date of the transaction\n",
        "* winner_account.address: The address of the buyer\n",
        "* payment_token.usd_price: The price of one token used to make the transaction in USD\n",
        "\n"
      ],
      "metadata": {
        "id": "KI4e6WezUZoL"
      }
    },
    {
      "cell_type": "markdown",
      "source": [
        ""
      ],
      "metadata": {
        "id": "R8_HoYNmVjqK"
      }
    },
    {
      "cell_type": "markdown",
      "source": [
        "* asset_contract.created_date : \n",
        "\n",
        "* asset_contract.name\n",
        "\n",
        "* asset_contract.schema_name\n",
        "\n",
        "* asset_contract.asset_contract_type\n",
        "\n",
        "* collection.created_date\n",
        "\n",
        "* collection.slug\n",
        "\n",
        "* collection.safelist_request_status\n",
        "\n",
        "* owner.address\n",
        "\n",
        "* is_presale\n",
        "\n",
        "* asset_contract.total_supply \n",
        "\n",
        "* asset_contract.seller_fee_basis_points\n",
        "\n",
        "* asset_contract.dev_seller_fee_basis_points\n",
        "\n",
        "* asset_contract.opensea_seller_fee_basis_points\n",
        "\n",
        "* collection.featured\n",
        "\n",
        "* collection.dev_seller_fee_basis_points\n",
        "\n",
        "* collection.opensea_seller_fee_basis_points\n",
        "\n",
        "* target\n",
        "\n",
        "\n"
      ],
      "metadata": {
        "id": "ls9Phy_NU4xb"
      }
    },
    {
      "cell_type": "code",
      "source": [
        "data=df[['asset_contract.created_date', 'asset_contract.name',\n",
        "       'asset_contract.schema_name', 'asset_contract.asset_contract_type',\n",
        "       'collection.created_date', 'collection.slug',\n",
        "       'collection.safelist_request_status', 'owner.address', 'is_presale',\n",
        "       'asset_contract.total_supply', 'asset_contract.seller_fee_basis_points',\n",
        "       'asset_contract.dev_seller_fee_basis_points',\n",
        "       'asset_contract.opensea_seller_fee_basis_points', 'collection.featured',\n",
        "       'collection.dev_seller_fee_basis_points',\n",
        "       'collection.opensea_seller_fee_basis_points',\"target\"]]"
      ],
      "metadata": {
        "id": "uliKIMM2uVjO"
      },
      "execution_count": null,
      "outputs": []
    },
    {
      "cell_type": "code",
      "source": [
        "data['target'].value_counts(normalize=True)"
      ],
      "metadata": {
        "colab": {
          "base_uri": "https://localhost:8080/"
        },
        "id": "Laz7k5Mzui8f",
        "outputId": "bc672589-55a3-43e0-ce11-4ad8c34e1a01"
      },
      "execution_count": null,
      "outputs": [
        {
          "output_type": "execute_result",
          "data": {
            "text/plain": [
              "1    0.668004\n",
              "0    0.331996\n",
              "Name: target, dtype: float64"
            ]
          },
          "metadata": {},
          "execution_count": 74
        }
      ]
    },
    {
      "cell_type": "code",
      "source": [
        "data.loc[data['target'] == 0].head(5)"
      ],
      "metadata": {
        "colab": {
          "base_uri": "https://localhost:8080/",
          "height": 356
        },
        "id": "tcoVg559vYZo",
        "outputId": "8f155178-937e-4e80-915f-074ab13eaedb"
      },
      "execution_count": null,
      "outputs": [
        {
          "output_type": "execute_result",
          "data": {
            "text/html": [
              "\n",
              "  <div id=\"df-1786a138-32e0-4269-b50e-2539cc78c640\">\n",
              "    <div class=\"colab-df-container\">\n",
              "      <div>\n",
              "<style scoped>\n",
              "    .dataframe tbody tr th:only-of-type {\n",
              "        vertical-align: middle;\n",
              "    }\n",
              "\n",
              "    .dataframe tbody tr th {\n",
              "        vertical-align: top;\n",
              "    }\n",
              "\n",
              "    .dataframe thead th {\n",
              "        text-align: right;\n",
              "    }\n",
              "</style>\n",
              "<table border=\"1\" class=\"dataframe\">\n",
              "  <thead>\n",
              "    <tr style=\"text-align: right;\">\n",
              "      <th></th>\n",
              "      <th>asset_contract.created_date</th>\n",
              "      <th>asset_contract.name</th>\n",
              "      <th>asset_contract.schema_name</th>\n",
              "      <th>asset_contract.asset_contract_type</th>\n",
              "      <th>collection.created_date</th>\n",
              "      <th>collection.slug</th>\n",
              "      <th>collection.safelist_request_status</th>\n",
              "      <th>owner.address</th>\n",
              "      <th>is_presale</th>\n",
              "      <th>asset_contract.total_supply</th>\n",
              "      <th>asset_contract.seller_fee_basis_points</th>\n",
              "      <th>asset_contract.dev_seller_fee_basis_points</th>\n",
              "      <th>asset_contract.opensea_seller_fee_basis_points</th>\n",
              "      <th>collection.featured</th>\n",
              "      <th>collection.dev_seller_fee_basis_points</th>\n",
              "      <th>collection.opensea_seller_fee_basis_points</th>\n",
              "      <th>target</th>\n",
              "    </tr>\n",
              "  </thead>\n",
              "  <tbody>\n",
              "    <tr>\n",
              "      <th>7246</th>\n",
              "      <td>2020-12-02 17:40:53.232025</td>\n",
              "      <td>OpenSea Collection</td>\n",
              "      <td>ERC1155</td>\n",
              "      <td>semi-fungible</td>\n",
              "      <td>2021-09-26 13:47:23.974420</td>\n",
              "      <td>goo-d</td>\n",
              "      <td>not_requested</td>\n",
              "      <td>0x0000000000000000000000000000000000000000</td>\n",
              "      <td>True</td>\n",
              "      <td>NaN</td>\n",
              "      <td>250</td>\n",
              "      <td>0</td>\n",
              "      <td>250</td>\n",
              "      <td>False</td>\n",
              "      <td>1000</td>\n",
              "      <td>250</td>\n",
              "      <td>0</td>\n",
              "    </tr>\n",
              "    <tr>\n",
              "      <th>7248</th>\n",
              "      <td>2021-11-12 16:22:27.095442</td>\n",
              "      <td>DragonVerse</td>\n",
              "      <td>ERC721</td>\n",
              "      <td>non-fungible</td>\n",
              "      <td>2021-11-12 18:59:45.263501</td>\n",
              "      <td>thedragonversegame</td>\n",
              "      <td>not_requested</td>\n",
              "      <td>0x11f22fcab2abe5df005a546c6b14d1e79c1a79d1</td>\n",
              "      <td>False</td>\n",
              "      <td>0.0</td>\n",
              "      <td>1000</td>\n",
              "      <td>750</td>\n",
              "      <td>250</td>\n",
              "      <td>False</td>\n",
              "      <td>750</td>\n",
              "      <td>250</td>\n",
              "      <td>0</td>\n",
              "    </tr>\n",
              "    <tr>\n",
              "      <th>7250</th>\n",
              "      <td>2020-12-02 17:40:53.232025</td>\n",
              "      <td>OpenSea Collection</td>\n",
              "      <td>ERC1155</td>\n",
              "      <td>semi-fungible</td>\n",
              "      <td>2021-11-10 10:44:54.951838</td>\n",
              "      <td>lucky-binary-nft-number</td>\n",
              "      <td>not_requested</td>\n",
              "      <td>0x0000000000000000000000000000000000000000</td>\n",
              "      <td>True</td>\n",
              "      <td>NaN</td>\n",
              "      <td>250</td>\n",
              "      <td>0</td>\n",
              "      <td>250</td>\n",
              "      <td>False</td>\n",
              "      <td>250</td>\n",
              "      <td>250</td>\n",
              "      <td>0</td>\n",
              "    </tr>\n",
              "    <tr>\n",
              "      <th>7251</th>\n",
              "      <td>2020-12-02 17:40:53.232025</td>\n",
              "      <td>OpenSea Collection</td>\n",
              "      <td>ERC1155</td>\n",
              "      <td>semi-fungible</td>\n",
              "      <td>2021-11-10 10:44:54.951838</td>\n",
              "      <td>lucky-binary-nft-number</td>\n",
              "      <td>not_requested</td>\n",
              "      <td>0x0000000000000000000000000000000000000000</td>\n",
              "      <td>True</td>\n",
              "      <td>NaN</td>\n",
              "      <td>250</td>\n",
              "      <td>0</td>\n",
              "      <td>250</td>\n",
              "      <td>False</td>\n",
              "      <td>250</td>\n",
              "      <td>250</td>\n",
              "      <td>0</td>\n",
              "    </tr>\n",
              "    <tr>\n",
              "      <th>7252</th>\n",
              "      <td>2020-12-02 17:40:53.232025</td>\n",
              "      <td>OpenSea Collection</td>\n",
              "      <td>ERC1155</td>\n",
              "      <td>semi-fungible</td>\n",
              "      <td>2021-11-12 12:59:57.286709</td>\n",
              "      <td>pika-inu</td>\n",
              "      <td>not_requested</td>\n",
              "      <td>0x0000000000000000000000000000000000000000</td>\n",
              "      <td>True</td>\n",
              "      <td>NaN</td>\n",
              "      <td>250</td>\n",
              "      <td>0</td>\n",
              "      <td>250</td>\n",
              "      <td>False</td>\n",
              "      <td>500</td>\n",
              "      <td>250</td>\n",
              "      <td>0</td>\n",
              "    </tr>\n",
              "  </tbody>\n",
              "</table>\n",
              "</div>\n",
              "      <button class=\"colab-df-convert\" onclick=\"convertToInteractive('df-1786a138-32e0-4269-b50e-2539cc78c640')\"\n",
              "              title=\"Convert this dataframe to an interactive table.\"\n",
              "              style=\"display:none;\">\n",
              "        \n",
              "  <svg xmlns=\"http://www.w3.org/2000/svg\" height=\"24px\"viewBox=\"0 0 24 24\"\n",
              "       width=\"24px\">\n",
              "    <path d=\"M0 0h24v24H0V0z\" fill=\"none\"/>\n",
              "    <path d=\"M18.56 5.44l.94 2.06.94-2.06 2.06-.94-2.06-.94-.94-2.06-.94 2.06-2.06.94zm-11 1L8.5 8.5l.94-2.06 2.06-.94-2.06-.94L8.5 2.5l-.94 2.06-2.06.94zm10 10l.94 2.06.94-2.06 2.06-.94-2.06-.94-.94-2.06-.94 2.06-2.06.94z\"/><path d=\"M17.41 7.96l-1.37-1.37c-.4-.4-.92-.59-1.43-.59-.52 0-1.04.2-1.43.59L10.3 9.45l-7.72 7.72c-.78.78-.78 2.05 0 2.83L4 21.41c.39.39.9.59 1.41.59.51 0 1.02-.2 1.41-.59l7.78-7.78 2.81-2.81c.8-.78.8-2.07 0-2.86zM5.41 20L4 18.59l7.72-7.72 1.47 1.35L5.41 20z\"/>\n",
              "  </svg>\n",
              "      </button>\n",
              "      \n",
              "  <style>\n",
              "    .colab-df-container {\n",
              "      display:flex;\n",
              "      flex-wrap:wrap;\n",
              "      gap: 12px;\n",
              "    }\n",
              "\n",
              "    .colab-df-convert {\n",
              "      background-color: #E8F0FE;\n",
              "      border: none;\n",
              "      border-radius: 50%;\n",
              "      cursor: pointer;\n",
              "      display: none;\n",
              "      fill: #1967D2;\n",
              "      height: 32px;\n",
              "      padding: 0 0 0 0;\n",
              "      width: 32px;\n",
              "    }\n",
              "\n",
              "    .colab-df-convert:hover {\n",
              "      background-color: #E2EBFA;\n",
              "      box-shadow: 0px 1px 2px rgba(60, 64, 67, 0.3), 0px 1px 3px 1px rgba(60, 64, 67, 0.15);\n",
              "      fill: #174EA6;\n",
              "    }\n",
              "\n",
              "    [theme=dark] .colab-df-convert {\n",
              "      background-color: #3B4455;\n",
              "      fill: #D2E3FC;\n",
              "    }\n",
              "\n",
              "    [theme=dark] .colab-df-convert:hover {\n",
              "      background-color: #434B5C;\n",
              "      box-shadow: 0px 1px 3px 1px rgba(0, 0, 0, 0.15);\n",
              "      filter: drop-shadow(0px 1px 2px rgba(0, 0, 0, 0.3));\n",
              "      fill: #FFFFFF;\n",
              "    }\n",
              "  </style>\n",
              "\n",
              "      <script>\n",
              "        const buttonEl =\n",
              "          document.querySelector('#df-1786a138-32e0-4269-b50e-2539cc78c640 button.colab-df-convert');\n",
              "        buttonEl.style.display =\n",
              "          google.colab.kernel.accessAllowed ? 'block' : 'none';\n",
              "\n",
              "        async function convertToInteractive(key) {\n",
              "          const element = document.querySelector('#df-1786a138-32e0-4269-b50e-2539cc78c640');\n",
              "          const dataTable =\n",
              "            await google.colab.kernel.invokeFunction('convertToInteractive',\n",
              "                                                     [key], {});\n",
              "          if (!dataTable) return;\n",
              "\n",
              "          const docLinkHtml = 'Like what you see? Visit the ' +\n",
              "            '<a target=\"_blank\" href=https://colab.research.google.com/notebooks/data_table.ipynb>data table notebook</a>'\n",
              "            + ' to learn more about interactive tables.';\n",
              "          element.innerHTML = '';\n",
              "          dataTable['output_type'] = 'display_data';\n",
              "          await google.colab.output.renderOutput(dataTable, element);\n",
              "          const docLink = document.createElement('div');\n",
              "          docLink.innerHTML = docLinkHtml;\n",
              "          element.appendChild(docLink);\n",
              "        }\n",
              "      </script>\n",
              "    </div>\n",
              "  </div>\n",
              "  "
            ],
            "text/plain": [
              "     asset_contract.created_date  ... target\n",
              "7246  2020-12-02 17:40:53.232025  ...      0\n",
              "7248  2021-11-12 16:22:27.095442  ...      0\n",
              "7250  2020-12-02 17:40:53.232025  ...      0\n",
              "7251  2020-12-02 17:40:53.232025  ...      0\n",
              "7252  2020-12-02 17:40:53.232025  ...      0\n",
              "\n",
              "[5 rows x 17 columns]"
            ]
          },
          "metadata": {},
          "execution_count": 76
        }
      ]
    },
    {
      "cell_type": "code",
      "source": [
        "data.loc[data['target'] == 1].head(5)"
      ],
      "metadata": {
        "colab": {
          "base_uri": "https://localhost:8080/",
          "height": 356
        },
        "id": "6u3V1M8yvK3v",
        "outputId": "1e14cce1-6afa-4aab-c5f2-c6e1c2cc1bc7"
      },
      "execution_count": null,
      "outputs": [
        {
          "output_type": "execute_result",
          "data": {
            "text/html": [
              "\n",
              "  <div id=\"df-916c9bb2-a140-4db4-8d55-f289c6742ea6\">\n",
              "    <div class=\"colab-df-container\">\n",
              "      <div>\n",
              "<style scoped>\n",
              "    .dataframe tbody tr th:only-of-type {\n",
              "        vertical-align: middle;\n",
              "    }\n",
              "\n",
              "    .dataframe tbody tr th {\n",
              "        vertical-align: top;\n",
              "    }\n",
              "\n",
              "    .dataframe thead th {\n",
              "        text-align: right;\n",
              "    }\n",
              "</style>\n",
              "<table border=\"1\" class=\"dataframe\">\n",
              "  <thead>\n",
              "    <tr style=\"text-align: right;\">\n",
              "      <th></th>\n",
              "      <th>asset_contract.created_date</th>\n",
              "      <th>asset_contract.name</th>\n",
              "      <th>asset_contract.schema_name</th>\n",
              "      <th>asset_contract.asset_contract_type</th>\n",
              "      <th>collection.created_date</th>\n",
              "      <th>collection.slug</th>\n",
              "      <th>collection.safelist_request_status</th>\n",
              "      <th>owner.address</th>\n",
              "      <th>is_presale</th>\n",
              "      <th>asset_contract.total_supply</th>\n",
              "      <th>asset_contract.seller_fee_basis_points</th>\n",
              "      <th>asset_contract.dev_seller_fee_basis_points</th>\n",
              "      <th>asset_contract.opensea_seller_fee_basis_points</th>\n",
              "      <th>collection.featured</th>\n",
              "      <th>collection.dev_seller_fee_basis_points</th>\n",
              "      <th>collection.opensea_seller_fee_basis_points</th>\n",
              "      <th>target</th>\n",
              "    </tr>\n",
              "  </thead>\n",
              "  <tbody>\n",
              "    <tr>\n",
              "      <th>0</th>\n",
              "      <td>2021-09-03 04:01:42.829914</td>\n",
              "      <td>Unidentified contract</td>\n",
              "      <td>ERC1155</td>\n",
              "      <td>semi-fungible</td>\n",
              "      <td>2021-09-03 04:50:03.338901</td>\n",
              "      <td>lostpoets</td>\n",
              "      <td>verified</td>\n",
              "      <td>0x0000000000000000000000000000000000000000</td>\n",
              "      <td>False</td>\n",
              "      <td>NaN</td>\n",
              "      <td>1250</td>\n",
              "      <td>1000</td>\n",
              "      <td>250</td>\n",
              "      <td>False</td>\n",
              "      <td>1000</td>\n",
              "      <td>250</td>\n",
              "      <td>1</td>\n",
              "    </tr>\n",
              "    <tr>\n",
              "      <th>1</th>\n",
              "      <td>2021-09-09 15:40:47.108114</td>\n",
              "      <td>Unidentified contract</td>\n",
              "      <td>ERC1155</td>\n",
              "      <td>semi-fungible</td>\n",
              "      <td>2021-09-09 17:26:23.390102</td>\n",
              "      <td>888innercircle</td>\n",
              "      <td>verified</td>\n",
              "      <td>0x0000000000000000000000000000000000000000</td>\n",
              "      <td>False</td>\n",
              "      <td>NaN</td>\n",
              "      <td>888</td>\n",
              "      <td>638</td>\n",
              "      <td>250</td>\n",
              "      <td>False</td>\n",
              "      <td>638</td>\n",
              "      <td>250</td>\n",
              "      <td>1</td>\n",
              "    </tr>\n",
              "    <tr>\n",
              "      <th>2</th>\n",
              "      <td>2021-10-20 18:56:15.301204</td>\n",
              "      <td>iNFT Personality Pod</td>\n",
              "      <td>ERC721</td>\n",
              "      <td>non-fungible</td>\n",
              "      <td>2021-10-20 18:56:17.613352</td>\n",
              "      <td>inft-personality-pod-sale</td>\n",
              "      <td>verified</td>\n",
              "      <td>0x0738f702d1a7364d356729cb8845701885c487a1</td>\n",
              "      <td>True</td>\n",
              "      <td>3.0</td>\n",
              "      <td>1000</td>\n",
              "      <td>750</td>\n",
              "      <td>250</td>\n",
              "      <td>False</td>\n",
              "      <td>750</td>\n",
              "      <td>250</td>\n",
              "      <td>1</td>\n",
              "    </tr>\n",
              "    <tr>\n",
              "      <th>3</th>\n",
              "      <td>2021-04-05 12:27:21.409843</td>\n",
              "      <td>The Meta Key</td>\n",
              "      <td>ERC1155</td>\n",
              "      <td>semi-fungible</td>\n",
              "      <td>2021-04-05 12:40:46.091120</td>\n",
              "      <td>the-meta-key</td>\n",
              "      <td>verified</td>\n",
              "      <td>0x0000000000000000000000000000000000000000</td>\n",
              "      <td>False</td>\n",
              "      <td>NaN</td>\n",
              "      <td>750</td>\n",
              "      <td>500</td>\n",
              "      <td>250</td>\n",
              "      <td>False</td>\n",
              "      <td>500</td>\n",
              "      <td>250</td>\n",
              "      <td>1</td>\n",
              "    </tr>\n",
              "    <tr>\n",
              "      <th>4</th>\n",
              "      <td>2021-09-17 04:51:21.073075</td>\n",
              "      <td>Woodies Mint Passport</td>\n",
              "      <td>ERC1155</td>\n",
              "      <td>semi-fungible</td>\n",
              "      <td>2021-09-17 16:19:16.049956</td>\n",
              "      <td>woodies-mint-passport</td>\n",
              "      <td>verified</td>\n",
              "      <td>0x0000000000000000000000000000000000000000</td>\n",
              "      <td>False</td>\n",
              "      <td>NaN</td>\n",
              "      <td>750</td>\n",
              "      <td>500</td>\n",
              "      <td>250</td>\n",
              "      <td>False</td>\n",
              "      <td>500</td>\n",
              "      <td>250</td>\n",
              "      <td>1</td>\n",
              "    </tr>\n",
              "  </tbody>\n",
              "</table>\n",
              "</div>\n",
              "      <button class=\"colab-df-convert\" onclick=\"convertToInteractive('df-916c9bb2-a140-4db4-8d55-f289c6742ea6')\"\n",
              "              title=\"Convert this dataframe to an interactive table.\"\n",
              "              style=\"display:none;\">\n",
              "        \n",
              "  <svg xmlns=\"http://www.w3.org/2000/svg\" height=\"24px\"viewBox=\"0 0 24 24\"\n",
              "       width=\"24px\">\n",
              "    <path d=\"M0 0h24v24H0V0z\" fill=\"none\"/>\n",
              "    <path d=\"M18.56 5.44l.94 2.06.94-2.06 2.06-.94-2.06-.94-.94-2.06-.94 2.06-2.06.94zm-11 1L8.5 8.5l.94-2.06 2.06-.94-2.06-.94L8.5 2.5l-.94 2.06-2.06.94zm10 10l.94 2.06.94-2.06 2.06-.94-2.06-.94-.94-2.06-.94 2.06-2.06.94z\"/><path d=\"M17.41 7.96l-1.37-1.37c-.4-.4-.92-.59-1.43-.59-.52 0-1.04.2-1.43.59L10.3 9.45l-7.72 7.72c-.78.78-.78 2.05 0 2.83L4 21.41c.39.39.9.59 1.41.59.51 0 1.02-.2 1.41-.59l7.78-7.78 2.81-2.81c.8-.78.8-2.07 0-2.86zM5.41 20L4 18.59l7.72-7.72 1.47 1.35L5.41 20z\"/>\n",
              "  </svg>\n",
              "      </button>\n",
              "      \n",
              "  <style>\n",
              "    .colab-df-container {\n",
              "      display:flex;\n",
              "      flex-wrap:wrap;\n",
              "      gap: 12px;\n",
              "    }\n",
              "\n",
              "    .colab-df-convert {\n",
              "      background-color: #E8F0FE;\n",
              "      border: none;\n",
              "      border-radius: 50%;\n",
              "      cursor: pointer;\n",
              "      display: none;\n",
              "      fill: #1967D2;\n",
              "      height: 32px;\n",
              "      padding: 0 0 0 0;\n",
              "      width: 32px;\n",
              "    }\n",
              "\n",
              "    .colab-df-convert:hover {\n",
              "      background-color: #E2EBFA;\n",
              "      box-shadow: 0px 1px 2px rgba(60, 64, 67, 0.3), 0px 1px 3px 1px rgba(60, 64, 67, 0.15);\n",
              "      fill: #174EA6;\n",
              "    }\n",
              "\n",
              "    [theme=dark] .colab-df-convert {\n",
              "      background-color: #3B4455;\n",
              "      fill: #D2E3FC;\n",
              "    }\n",
              "\n",
              "    [theme=dark] .colab-df-convert:hover {\n",
              "      background-color: #434B5C;\n",
              "      box-shadow: 0px 1px 3px 1px rgba(0, 0, 0, 0.15);\n",
              "      filter: drop-shadow(0px 1px 2px rgba(0, 0, 0, 0.3));\n",
              "      fill: #FFFFFF;\n",
              "    }\n",
              "  </style>\n",
              "\n",
              "      <script>\n",
              "        const buttonEl =\n",
              "          document.querySelector('#df-916c9bb2-a140-4db4-8d55-f289c6742ea6 button.colab-df-convert');\n",
              "        buttonEl.style.display =\n",
              "          google.colab.kernel.accessAllowed ? 'block' : 'none';\n",
              "\n",
              "        async function convertToInteractive(key) {\n",
              "          const element = document.querySelector('#df-916c9bb2-a140-4db4-8d55-f289c6742ea6');\n",
              "          const dataTable =\n",
              "            await google.colab.kernel.invokeFunction('convertToInteractive',\n",
              "                                                     [key], {});\n",
              "          if (!dataTable) return;\n",
              "\n",
              "          const docLinkHtml = 'Like what you see? Visit the ' +\n",
              "            '<a target=\"_blank\" href=https://colab.research.google.com/notebooks/data_table.ipynb>data table notebook</a>'\n",
              "            + ' to learn more about interactive tables.';\n",
              "          element.innerHTML = '';\n",
              "          dataTable['output_type'] = 'display_data';\n",
              "          await google.colab.output.renderOutput(dataTable, element);\n",
              "          const docLink = document.createElement('div');\n",
              "          docLink.innerHTML = docLinkHtml;\n",
              "          element.appendChild(docLink);\n",
              "        }\n",
              "      </script>\n",
              "    </div>\n",
              "  </div>\n",
              "  "
            ],
            "text/plain": [
              "  asset_contract.created_date  ... target\n",
              "0  2021-09-03 04:01:42.829914  ...      1\n",
              "1  2021-09-09 15:40:47.108114  ...      1\n",
              "2  2021-10-20 18:56:15.301204  ...      1\n",
              "3  2021-04-05 12:27:21.409843  ...      1\n",
              "4  2021-09-17 04:51:21.073075  ...      1\n",
              "\n",
              "[5 rows x 17 columns]"
            ]
          },
          "metadata": {},
          "execution_count": 77
        }
      ]
    },
    {
      "cell_type": "code",
      "source": [
        "\n",
        "target1=[\"2021-10-20 18:56:15.301204\",\t\"iNFT Personality Pod\",\t\"ERC721\",\t\"non-fungible\",\t\"2021-10-20 18:56:17.613352\",\t\"inft-personality-pod-sale\",\t\"verified\",\t\"0x0738f702d1a7364d356729cb8845701885c487a1\",\tTrue,\t3.0,\t1000,\t750,\t250,\tFalse,\t750,\t250]\t\n",
        "dic=predictNFT(\"2021-10-20 18:56:15.301204\",\t\"iNFT Personality Pod\",\t\"ERC721\",\t\"non-fungible\",\t\"2021-10-20 18:56:17.613352\",\t\"inft-personality-pod-sale\",\t\"verified\",\t\"0x0738f702d1a7364d356729cb8845701885c487a1\",\tTrue,\t3.0,\t1000,\t750,\t250,\tFalse,\t750,\t250)\n",
        "print(dic)"
      ],
      "metadata": {
        "colab": {
          "base_uri": "https://localhost:8080/"
        },
        "id": "zwzt3CKGuFmq",
        "outputId": "08899bd7-e2c4-4fe3-b81b-9692e8354ab4"
      },
      "execution_count": null,
      "outputs": [
        {
          "output_type": "stream",
          "name": "stdout",
          "text": [
            "1\n"
          ]
        },
        {
          "output_type": "stream",
          "name": "stderr",
          "text": [
            "/usr/local/lib/python3.7/dist-packages/sklearn/base.py:451: UserWarning: X does not have valid feature names, but DecisionTreeClassifier was fitted with feature names\n",
            "  \"X does not have valid feature names, but\"\n"
          ]
        }
      ]
    },
    {
      "cell_type": "code",
      "source": [
        "\n",
        "target0=[\"2021-11-12 16:22:27.095442\",\t\"DragonVerse\",\t\"ERC721\",\t\"non-fungible\",\t\"2021-11-12 18:59:45.263501\",\t\"thedragonversegame\",\t\"not_requested\",\t\"0x11f22fcab2abe5df005a546c6b14d1e79c1a79d1\",\tFalse,\t0.0,\t1000,\t750\t,250,\tFalse,\t750,\t250\t]\t\n",
        "dic=predictNFT(\"2021-11-12 16:22:27.095442\",\t\"DragonVerse\",\t\"ERC721\",\t\"non-fungible\",\t\"2021-11-12 18:59:45.263501\",\t\"thedragonversegame\",\t\"not_requested\",\t\"0x11f22fcab2abe5df005a546c6b14d1e79c1a79d1\",\tFalse,\t0.0,\t1000,\t750\t,250,\tFalse,\t750,\t250\t)\n",
        "print(dic)"
      ],
      "metadata": {
        "colab": {
          "base_uri": "https://localhost:8080/"
        },
        "id": "KNn2ZEu9wK61",
        "outputId": "4eac1330-89a2-44de-c2ee-733fc1254628"
      },
      "execution_count": null,
      "outputs": [
        {
          "output_type": "stream",
          "name": "stdout",
          "text": [
            "0\n"
          ]
        },
        {
          "output_type": "stream",
          "name": "stderr",
          "text": [
            "/usr/local/lib/python3.7/dist-packages/sklearn/base.py:451: UserWarning: X does not have valid feature names, but DecisionTreeClassifier was fitted with feature names\n",
            "  \"X does not have valid feature names, but\"\n"
          ]
        }
      ]
    },
    {
      "cell_type": "code",
      "source": [
        "pip install sweetviz"
      ],
      "metadata": {
        "colab": {
          "base_uri": "https://localhost:8080/"
        },
        "id": "lw5dqxky7kEZ",
        "outputId": "3bed4512-a6fe-4109-e0bc-78fba0ca39cf"
      },
      "execution_count": null,
      "outputs": [
        {
          "output_type": "stream",
          "name": "stdout",
          "text": [
            "Collecting sweetviz\n",
            "  Downloading sweetviz-2.1.3-py3-none-any.whl (15.1 MB)\n",
            "\u001b[K     |████████████████████████████████| 15.1 MB 14.9 MB/s \n",
            "\u001b[?25hRequirement already satisfied: importlib-resources>=1.2.0 in /usr/local/lib/python3.7/dist-packages (from sweetviz) (5.4.0)\n",
            "Requirement already satisfied: scipy>=1.3.2 in /usr/local/lib/python3.7/dist-packages (from sweetviz) (1.4.1)\n",
            "Requirement already satisfied: pandas!=1.0.0,!=1.0.1,!=1.0.2,>=0.25.3 in /usr/local/lib/python3.7/dist-packages (from sweetviz) (1.3.5)\n",
            "Requirement already satisfied: jinja2>=2.11.1 in /usr/local/lib/python3.7/dist-packages (from sweetviz) (2.11.3)\n",
            "Requirement already satisfied: matplotlib>=3.1.3 in /usr/local/lib/python3.7/dist-packages (from sweetviz) (3.2.2)\n",
            "Requirement already satisfied: numpy>=1.16.0 in /usr/local/lib/python3.7/dist-packages (from sweetviz) (1.21.5)\n",
            "Requirement already satisfied: tqdm>=4.43.0 in /usr/local/lib/python3.7/dist-packages (from sweetviz) (4.62.3)\n",
            "Requirement already satisfied: zipp>=3.1.0 in /usr/local/lib/python3.7/dist-packages (from importlib-resources>=1.2.0->sweetviz) (3.7.0)\n",
            "Requirement already satisfied: MarkupSafe>=0.23 in /usr/local/lib/python3.7/dist-packages (from jinja2>=2.11.1->sweetviz) (2.0.1)\n",
            "Requirement already satisfied: cycler>=0.10 in /usr/local/lib/python3.7/dist-packages (from matplotlib>=3.1.3->sweetviz) (0.11.0)\n",
            "Requirement already satisfied: pyparsing!=2.0.4,!=2.1.2,!=2.1.6,>=2.0.1 in /usr/local/lib/python3.7/dist-packages (from matplotlib>=3.1.3->sweetviz) (3.0.7)\n",
            "Requirement already satisfied: kiwisolver>=1.0.1 in /usr/local/lib/python3.7/dist-packages (from matplotlib>=3.1.3->sweetviz) (1.3.2)\n",
            "Requirement already satisfied: python-dateutil>=2.1 in /usr/local/lib/python3.7/dist-packages (from matplotlib>=3.1.3->sweetviz) (2.8.2)\n",
            "Requirement already satisfied: pytz>=2017.3 in /usr/local/lib/python3.7/dist-packages (from pandas!=1.0.0,!=1.0.1,!=1.0.2,>=0.25.3->sweetviz) (2018.9)\n",
            "Requirement already satisfied: six>=1.5 in /usr/local/lib/python3.7/dist-packages (from python-dateutil>=2.1->matplotlib>=3.1.3->sweetviz) (1.15.0)\n",
            "Installing collected packages: sweetviz\n",
            "Successfully installed sweetviz-2.1.3\n"
          ]
        }
      ]
    },
    {
      "cell_type": "code",
      "source": [
        "import sweetviz as sv\n",
        "\n",
        "my_report = sv.analyze(X1_test)\n",
        "my_report.show_html() # Default arguments will generate to \"SWEETVIZ_REPORT.html\""
      ],
      "metadata": {
        "colab": {
          "base_uri": "https://localhost:8080/",
          "height": 67,
          "referenced_widgets": [
            "dc843495ee9b4a46a74d0b908d1207c2",
            "ed9c68e7704642b590570e1cabcbf2ee",
            "1d81402ad8db4d12841e1648ab3835b5",
            "51749704c0c24052bbabff2a1543c3bc",
            "ee568de7d4ca49a69383276eb8ea5972",
            "22d997629f964cc8947b57c3f5c1ab0a",
            "0a8729e064c0440ea75e0a98ab3396c6",
            "f7091083bd8b4615b3d02f4ae790d22b",
            "e5ba034d746a4613a76c569097f6cb7d",
            "96b9348dbfc84a10a867b6e087588446",
            "8b12d337fd90400e92bb5ff5cb64941c"
          ]
        },
        "id": "00l-j0NllPbo",
        "outputId": "d2ceaaa4-e10f-46ae-cdb6-9dd50fe95889"
      },
      "execution_count": null,
      "outputs": [
        {
          "output_type": "display_data",
          "data": {
            "application/vnd.jupyter.widget-view+json": {
              "model_id": "dc843495ee9b4a46a74d0b908d1207c2",
              "version_minor": 0,
              "version_major": 2
            },
            "text/plain": [
              "                                             |          | [  0%]   00:00 -> (? left)"
            ]
          },
          "metadata": {}
        },
        {
          "output_type": "stream",
          "name": "stdout",
          "text": [
            "Report SWEETVIZ_REPORT.html was generated! NOTEBOOK/COLAB USERS: the web browser MAY not pop up, regardless, the report IS saved in your notebook/colab files.\n"
          ]
        }
      ]
    },
    {
      "cell_type": "markdown",
      "source": [
        "#Interface\n"
      ],
      "metadata": {
        "id": "TtB4-y26t1c3"
      }
    },
    {
      "cell_type": "code",
      "source": [
        "!pip install -q gradio"
      ],
      "metadata": {
        "colab": {
          "base_uri": "https://localhost:8080/"
        },
        "id": "l8ur7LSK7kIO",
        "outputId": "99ad2784-2996-4a89-dc8a-b34a733f56ed"
      },
      "execution_count": null,
      "outputs": [
        {
          "output_type": "stream",
          "name": "stdout",
          "text": [
            "\u001b[K     |████████████████████████████████| 871 kB 11.5 MB/s \n",
            "\u001b[K     |████████████████████████████████| 52 kB 1.3 MB/s \n",
            "\u001b[K     |████████████████████████████████| 210 kB 65.5 MB/s \n",
            "\u001b[K     |████████████████████████████████| 1.1 MB 57.5 MB/s \n",
            "\u001b[K     |████████████████████████████████| 52 kB 1.0 MB/s \n",
            "\u001b[K     |████████████████████████████████| 2.0 MB 61.7 MB/s \n",
            "\u001b[K     |████████████████████████████████| 271 kB 60.5 MB/s \n",
            "\u001b[K     |████████████████████████████████| 144 kB 63.6 MB/s \n",
            "\u001b[K     |████████████████████████████████| 94 kB 4.1 MB/s \n",
            "\u001b[K     |████████████████████████████████| 10.9 MB 52.3 MB/s \n",
            "\u001b[K     |████████████████████████████████| 58 kB 6.9 MB/s \n",
            "\u001b[K     |████████████████████████████████| 79 kB 9.4 MB/s \n",
            "\u001b[K     |████████████████████████████████| 856 kB 55.3 MB/s \n",
            "\u001b[K     |████████████████████████████████| 61 kB 535 kB/s \n",
            "\u001b[K     |████████████████████████████████| 3.6 MB 56.2 MB/s \n",
            "\u001b[K     |████████████████████████████████| 58 kB 7.3 MB/s \n",
            "\u001b[?25h  Building wheel for ffmpy (setup.py) ... \u001b[?25l\u001b[?25hdone\n",
            "  Building wheel for python-multipart (setup.py) ... \u001b[?25l\u001b[?25hdone\n"
          ]
        }
      ]
    },
    {
      "cell_type": "code",
      "source": [
        ""
      ],
      "metadata": {
        "id": "xJe88c8pagrE"
      },
      "execution_count": null,
      "outputs": []
    },
    {
      "cell_type": "code",
      "source": [
        "X1_test.dtypes"
      ],
      "metadata": {
        "colab": {
          "base_uri": "https://localhost:8080/"
        },
        "id": "24Fs-JABkSFi",
        "outputId": "2c248bac-7abb-4a8c-ec25-cfcfc421be98"
      },
      "execution_count": null,
      "outputs": [
        {
          "output_type": "execute_result",
          "data": {
            "text/plain": [
              "Unnamed: 0                                          int64\n",
              "asset_contract.created_date                        object\n",
              "asset_contract.name                                object\n",
              "asset_contract.schema_name                         object\n",
              "asset_contract.asset_contract_type                 object\n",
              "collection.created_date                            object\n",
              "collection.slug                                    object\n",
              "collection.safelist_request_status                 object\n",
              "owner.address                                      object\n",
              "is_presale                                           bool\n",
              "asset_contract.total_supply                       float64\n",
              "asset_contract.seller_fee_basis_points              int64\n",
              "asset_contract.dev_seller_fee_basis_points          int64\n",
              "asset_contract.opensea_seller_fee_basis_points      int64\n",
              "collection.featured                                  bool\n",
              "collection.dev_seller_fee_basis_points              int64\n",
              "collection.opensea_seller_fee_basis_points          int64\n",
              "dtype: object"
            ]
          },
          "metadata": {},
          "execution_count": 42
        }
      ]
    },
    {
      "cell_type": "code",
      "source": [
        "target0=[\"2021-11-12 16:22:27.095442\",\t\"DragonVerse\",\t\"ERC721\",\t\"non-fungible\",\t\"2021-11-12 18:59:45.263501\",\t\"thedragonversegame\",\t\"not_requested\",\t\"0x11f22fcab2abe5df005a546c6b14d1e79c1a79d1\",\tFalse,\t0.0,\t1000,\t750\t,250,\tFalse,\t750,\t250\t]\t\n",
        "target1=[\"2021-10-20 18:56:15.301204\",\t\"iNFT Personality Pod\",\t\"ERC721\",\t\"non-fungible\",\t\"2021-10-20 18:56:17.613352\",\t\"inft-personality-pod-sale\",\t\"verified\",\t\"0x0738f702d1a7364d356729cb8845701885c487a1\",\tTrue,\t3.0,\t1000,\t750,\t250,\tFalse,\t750,\t250]\t\n"
      ],
      "metadata": {
        "id": "RZdtw0yAynQh"
      },
      "execution_count": null,
      "outputs": []
    },
    {
      "cell_type": "code",
      "source": [
        "def test_4(in1, in2,in3, in4,in5, in6,in7, in8, in9,in10, in11,in12,in13,in14,in15,in16):\n",
        "  in9 = in9==\"True\"\n",
        "  in14 = in4==\"True\"\n",
        "  dic=predictNFT(in1, in2,in3, in4,in5, in6,in7, in8, in9,in10, in11,in12,in13,in14,in15,in16)\n",
        "\n",
        "\n",
        "  return dic\n",
        "in1 = gr.inputs.Dropdown(choices=[\"2020-12-02 17:40:53.232025\", \"2018-09-20 03:42:04.658841\", \"2020-05-27 16:53:32.834583\",\"2021-11-12 16:22:27.095442\"])\n",
        "in2 = gr.inputs.Dropdown(choices=[\"OpenSea Collection\", \"Dodgers MLB Crypto\", \"Dodgers MLB Crypto\",\"Rarible 1155\",\"Hero\",\"DragonVerse\",'iNFT Personality Pod'])\n",
        "in3 = gr.inputs.Dropdown(choices=[\"ERC1155\", \"ERC721\"])\n",
        "in4 = gr.inputs.Dropdown(choices=[\"semi-fungible\", \"non-fungible\"])\n",
        "in5 = gr.inputs.Dropdown(choices=[\"2019-04-26 22:13:24.304778\", \"2021-11-10 10:44:54.951838\", \"2020-01-01 13:22:57.777065\",\"2021-11-12 18:59:45.263501\",\"2021-10-20 18:56:17.613352\"])\n",
        "in6 = gr.inputs.Dropdown(choices=[\"dodgers-mlb-crypto\", \"lucky-binary-nft-number\", \"rarible\",\"thedragonversegame\",'inft-personality-pod-sale'])\n",
        "in7 = gr.inputs.Dropdown(choices=[\"not_requested\", \"approved\", \"verified\",\"requested\"])\n",
        "in8 = gr.inputs.Dropdown(choices=[\"0x0000000000000000000000000000000000000000\", \"0x90ee3cf59fcde2fe11838b9075ea4681462362f1\", \"0xed023b117953fcfaa92150d3ebe3e987d19563ce\",\"0x11f22fcab2abe5df005a546c6b14d1e79c1a79d1\"])\n",
        "in9 = gr.inputs.Dropdown(choices=[\"True\", \"False\"])\n",
        "in10 = gr.inputs.Dropdown(choices=[0.0, 1.0, 8.0,7275.0,14.0,3.0])\n",
        "in11 = gr.inputs.Dropdown(choices=[250,500,750,1250,1000,450,800])\n",
        "in12 = gr.inputs.Dropdown(choices=[0,250,500,1000,750,888,600,400,300])\n",
        "in13 = gr.inputs.Dropdown(choices=[250,0])\n",
        "in14 = gr.inputs.Dropdown(choices=[\"True\",\"False\"])\n",
        "in15 = gr.inputs.Dropdown(choices=[250,1000,0,500,750,300,100])\n",
        "in16 = gr.inputs.Dropdown(choices=[250,0])\n",
        "\n",
        "\n",
        "gr.Interface(fn=test_4, \n",
        "             inputs=[in1, in2,in3, in4,in5, in6,in7, in8, in9,in10, in11,in12,in13,in14,in15,in16], \n",
        "\n",
        "             outputs=\"text\").launch()"
      ],
      "metadata": {
        "colab": {
          "base_uri": "https://localhost:8080/",
          "height": 651
        },
        "id": "KwMqfQvHm9hf",
        "outputId": "a2276893-d0f7-4db0-eaa4-c96566e30f62"
      },
      "execution_count": null,
      "outputs": [
        {
          "output_type": "stream",
          "name": "stdout",
          "text": [
            "Colab notebook detected. To show errors in colab notebook, set `debug=True` in `launch()`\n",
            "Running on public URL: https://42655.gradio.app\n",
            "\n",
            "This share link expires in 72 hours. For free permanent hosting, check out Spaces (https://huggingface.co/spaces)\n"
          ]
        },
        {
          "output_type": "display_data",
          "data": {
            "text/html": [
              "\n",
              "        <iframe\n",
              "            width=\"900\"\n",
              "            height=\"500\"\n",
              "            src=\"https://42655.gradio.app\"\n",
              "            frameborder=\"0\"\n",
              "            allowfullscreen\n",
              "        ></iframe>\n",
              "        "
            ],
            "text/plain": [
              "<IPython.lib.display.IFrame at 0x7f31e437d290>"
            ]
          },
          "metadata": {}
        },
        {
          "output_type": "execute_result",
          "data": {
            "text/plain": [
              "(<fastapi.applications.FastAPI at 0x7f32098e3f90>,\n",
              " 'http://127.0.0.1:7874/',\n",
              " 'https://42655.gradio.app')"
            ]
          },
          "metadata": {},
          "execution_count": 82
        }
      ]
    },
    {
      "cell_type": "code",
      "source": [
        "in9='True'\n",
        "in14='False'\n",
        "in9 = in9==\"True\"\n",
        "in14 = in4==\"True\"\n",
        "\n",
        "print(in14)"
      ],
      "metadata": {
        "colab": {
          "base_uri": "https://localhost:8080/"
        },
        "id": "O0jPEdIRoZXE",
        "outputId": "c75a89ad-d425-492f-f217-9325227871f6"
      },
      "execution_count": null,
      "outputs": [
        {
          "output_type": "stream",
          "name": "stdout",
          "text": [
            "False\n"
          ]
        }
      ]
    },
    {
      "cell_type": "code",
      "source": [
        ""
      ],
      "metadata": {
        "id": "jjx4t14M0grF"
      },
      "execution_count": null,
      "outputs": []
    }
  ]
}